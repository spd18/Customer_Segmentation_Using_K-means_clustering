{
  "nbformat": 4,
  "nbformat_minor": 0,
  "metadata": {
    "colab": {
      "name": "Customer_Segmentation_Using_K-means_clustering.ipynb",
      "provenance": [],
      "collapsed_sections": [
        "Ru5YLTjWk27M",
        "nYBX6l5jdxx5"
      ]
    },
    "kernelspec": {
      "name": "python3",
      "display_name": "Python 3"
    },
    "language_info": {
      "name": "python"
    }
  },
  "cells": [
    {
      "cell_type": "markdown",
      "source": [
        "# Customer Segmentation Using K-means Clustering \n",
        "\n",
        "Programming Language: - Python\n"
      ],
      "metadata": {
        "id": "Ru5YLTjWk27M"
      }
    },
    {
      "cell_type": "markdown",
      "source": [
        "# Data Analytics and Machine Learning Project.\n",
        "\n",
        "In customer segmentation we will  try to group customer based on their spending pattern and purchase behaviour."
      ],
      "metadata": {
        "id": "nYBX6l5jdxx5"
      }
    },
    {
      "cell_type": "markdown",
      "source": [
        "#Problem Statement: -\n",
        "\n",
        "Let a consider a Popular shopping mall in the area, they have experienced data scientist with them. Mall owner wants some business insight as they have a useful data regarding customer behaviour and other aspects. \n",
        "\n",
        "As a Data Scientist we can build a system that can cluster a customer into group. there may a group of customer who wants to spent more. or may be a group of customer who donot want to spent more into the shopping.\n",
        "\n",
        "These different groups of cutomer will allow the data scientist or stackholders of the mall to form various schemes, policies and strategies for the shopping in order to gain profit."
      ],
      "metadata": {
        "id": "z4_BS0hlehA_"
      }
    },
    {
      "cell_type": "markdown",
      "source": [
        "This problem statement is based on clustering algorithm of unsupervised machine learning category.\n",
        "\n",
        "Work flow will be \n",
        "\n",
        "Customer Data -> Data Pre Processing -> Data Analysis -> Optimum number of clusters -> Fit to K-means Clustering Algorithm -> Visualizing the Cluster."
      ],
      "metadata": {
        "id": "RvVhD-DTgosH"
      }
    },
    {
      "cell_type": "code",
      "source": [
        "# Libraries or importing Dependencies.\n",
        "\n",
        "import numpy as numpy # useful for making numpy arrays.\n",
        "import pandas as pd # used to create dataframes i.e. Structured table. we can make dataframes of (.csv) files for better analysis.\n",
        "import matplotlib.pyplot as plt # data visualisation libraries\n",
        "import seaborn as sns # data visualisation libraries\n",
        "from sklearn.cluster import KMeans # useful for K Means clustering Algorithm\n",
        "\n"
      ],
      "metadata": {
        "id": "HZohZV9_hziJ"
      },
      "execution_count": null,
      "outputs": []
    },
    {
      "cell_type": "markdown",
      "source": [
        "# Data Collection and Analysis\n",
        "\n",
        "Dataset Link: https://www.kaggle.com/datasets/vjchoudhary7/customer-segmentation-tutorial-in-python?resource=download"
      ],
      "metadata": {
        "id": "BhU6hXf4jZS7"
      }
    },
    {
      "cell_type": "code",
      "source": [
        "# loading data from csv file to a pandas Dataframe\n",
        "customer_data = pd.read_csv('/content/Mall_Customers.csv')"
      ],
      "metadata": {
        "id": "IWXsIweJjaXX"
      },
      "execution_count": null,
      "outputs": []
    },
    {
      "cell_type": "code",
      "source": [
        "# printing the first 5 rows in the dataframe\n",
        "customer_data.head()"
      ],
      "metadata": {
        "colab": {
          "base_uri": "https://localhost:8080/",
          "height": 206
        },
        "id": "UDifWV1pvmHX",
        "outputId": "cee346af-d356-49fa-af78-4e3f524fc763"
      },
      "execution_count": null,
      "outputs": [
        {
          "output_type": "execute_result",
          "data": {
            "text/plain": [
              "   CustomerID  Gender  Age  Annual Income (k$)  Spending Score (1-100)\n",
              "0           1    Male   19                  15                      39\n",
              "1           2    Male   21                  15                      81\n",
              "2           3  Female   20                  16                       6\n",
              "3           4  Female   23                  16                      77\n",
              "4           5  Female   31                  17                      40"
            ],
            "text/html": [
              "\n",
              "  <div id=\"df-395a18c4-8f0a-4881-800f-730e171f0a65\">\n",
              "    <div class=\"colab-df-container\">\n",
              "      <div>\n",
              "<style scoped>\n",
              "    .dataframe tbody tr th:only-of-type {\n",
              "        vertical-align: middle;\n",
              "    }\n",
              "\n",
              "    .dataframe tbody tr th {\n",
              "        vertical-align: top;\n",
              "    }\n",
              "\n",
              "    .dataframe thead th {\n",
              "        text-align: right;\n",
              "    }\n",
              "</style>\n",
              "<table border=\"1\" class=\"dataframe\">\n",
              "  <thead>\n",
              "    <tr style=\"text-align: right;\">\n",
              "      <th></th>\n",
              "      <th>CustomerID</th>\n",
              "      <th>Gender</th>\n",
              "      <th>Age</th>\n",
              "      <th>Annual Income (k$)</th>\n",
              "      <th>Spending Score (1-100)</th>\n",
              "    </tr>\n",
              "  </thead>\n",
              "  <tbody>\n",
              "    <tr>\n",
              "      <th>0</th>\n",
              "      <td>1</td>\n",
              "      <td>Male</td>\n",
              "      <td>19</td>\n",
              "      <td>15</td>\n",
              "      <td>39</td>\n",
              "    </tr>\n",
              "    <tr>\n",
              "      <th>1</th>\n",
              "      <td>2</td>\n",
              "      <td>Male</td>\n",
              "      <td>21</td>\n",
              "      <td>15</td>\n",
              "      <td>81</td>\n",
              "    </tr>\n",
              "    <tr>\n",
              "      <th>2</th>\n",
              "      <td>3</td>\n",
              "      <td>Female</td>\n",
              "      <td>20</td>\n",
              "      <td>16</td>\n",
              "      <td>6</td>\n",
              "    </tr>\n",
              "    <tr>\n",
              "      <th>3</th>\n",
              "      <td>4</td>\n",
              "      <td>Female</td>\n",
              "      <td>23</td>\n",
              "      <td>16</td>\n",
              "      <td>77</td>\n",
              "    </tr>\n",
              "    <tr>\n",
              "      <th>4</th>\n",
              "      <td>5</td>\n",
              "      <td>Female</td>\n",
              "      <td>31</td>\n",
              "      <td>17</td>\n",
              "      <td>40</td>\n",
              "    </tr>\n",
              "  </tbody>\n",
              "</table>\n",
              "</div>\n",
              "      <button class=\"colab-df-convert\" onclick=\"convertToInteractive('df-395a18c4-8f0a-4881-800f-730e171f0a65')\"\n",
              "              title=\"Convert this dataframe to an interactive table.\"\n",
              "              style=\"display:none;\">\n",
              "        \n",
              "  <svg xmlns=\"http://www.w3.org/2000/svg\" height=\"24px\"viewBox=\"0 0 24 24\"\n",
              "       width=\"24px\">\n",
              "    <path d=\"M0 0h24v24H0V0z\" fill=\"none\"/>\n",
              "    <path d=\"M18.56 5.44l.94 2.06.94-2.06 2.06-.94-2.06-.94-.94-2.06-.94 2.06-2.06.94zm-11 1L8.5 8.5l.94-2.06 2.06-.94-2.06-.94L8.5 2.5l-.94 2.06-2.06.94zm10 10l.94 2.06.94-2.06 2.06-.94-2.06-.94-.94-2.06-.94 2.06-2.06.94z\"/><path d=\"M17.41 7.96l-1.37-1.37c-.4-.4-.92-.59-1.43-.59-.52 0-1.04.2-1.43.59L10.3 9.45l-7.72 7.72c-.78.78-.78 2.05 0 2.83L4 21.41c.39.39.9.59 1.41.59.51 0 1.02-.2 1.41-.59l7.78-7.78 2.81-2.81c.8-.78.8-2.07 0-2.86zM5.41 20L4 18.59l7.72-7.72 1.47 1.35L5.41 20z\"/>\n",
              "  </svg>\n",
              "      </button>\n",
              "      \n",
              "  <style>\n",
              "    .colab-df-container {\n",
              "      display:flex;\n",
              "      flex-wrap:wrap;\n",
              "      gap: 12px;\n",
              "    }\n",
              "\n",
              "    .colab-df-convert {\n",
              "      background-color: #E8F0FE;\n",
              "      border: none;\n",
              "      border-radius: 50%;\n",
              "      cursor: pointer;\n",
              "      display: none;\n",
              "      fill: #1967D2;\n",
              "      height: 32px;\n",
              "      padding: 0 0 0 0;\n",
              "      width: 32px;\n",
              "    }\n",
              "\n",
              "    .colab-df-convert:hover {\n",
              "      background-color: #E2EBFA;\n",
              "      box-shadow: 0px 1px 2px rgba(60, 64, 67, 0.3), 0px 1px 3px 1px rgba(60, 64, 67, 0.15);\n",
              "      fill: #174EA6;\n",
              "    }\n",
              "\n",
              "    [theme=dark] .colab-df-convert {\n",
              "      background-color: #3B4455;\n",
              "      fill: #D2E3FC;\n",
              "    }\n",
              "\n",
              "    [theme=dark] .colab-df-convert:hover {\n",
              "      background-color: #434B5C;\n",
              "      box-shadow: 0px 1px 3px 1px rgba(0, 0, 0, 0.15);\n",
              "      filter: drop-shadow(0px 1px 2px rgba(0, 0, 0, 0.3));\n",
              "      fill: #FFFFFF;\n",
              "    }\n",
              "  </style>\n",
              "\n",
              "      <script>\n",
              "        const buttonEl =\n",
              "          document.querySelector('#df-395a18c4-8f0a-4881-800f-730e171f0a65 button.colab-df-convert');\n",
              "        buttonEl.style.display =\n",
              "          google.colab.kernel.accessAllowed ? 'block' : 'none';\n",
              "\n",
              "        async function convertToInteractive(key) {\n",
              "          const element = document.querySelector('#df-395a18c4-8f0a-4881-800f-730e171f0a65');\n",
              "          const dataTable =\n",
              "            await google.colab.kernel.invokeFunction('convertToInteractive',\n",
              "                                                     [key], {});\n",
              "          if (!dataTable) return;\n",
              "\n",
              "          const docLinkHtml = 'Like what you see? Visit the ' +\n",
              "            '<a target=\"_blank\" href=https://colab.research.google.com/notebooks/data_table.ipynb>data table notebook</a>'\n",
              "            + ' to learn more about interactive tables.';\n",
              "          element.innerHTML = '';\n",
              "          dataTable['output_type'] = 'display_data';\n",
              "          await google.colab.output.renderOutput(dataTable, element);\n",
              "          const docLink = document.createElement('div');\n",
              "          docLink.innerHTML = docLinkHtml;\n",
              "          element.appendChild(docLink);\n",
              "        }\n",
              "      </script>\n",
              "    </div>\n",
              "  </div>\n",
              "  "
            ]
          },
          "metadata": {},
          "execution_count": 3
        }
      ]
    },
    {
      "cell_type": "code",
      "source": [
        "# finding the number of rows and columns\n",
        "customer_data.shape"
      ],
      "metadata": {
        "colab": {
          "base_uri": "https://localhost:8080/"
        },
        "id": "zZ5oNTY8vukq",
        "outputId": "98ec3270-f631-47a6-d2bf-41d52793fe09"
      },
      "execution_count": null,
      "outputs": [
        {
          "output_type": "execute_result",
          "data": {
            "text/plain": [
              "(200, 5)"
            ]
          },
          "metadata": {},
          "execution_count": 4
        }
      ]
    },
    {
      "cell_type": "code",
      "source": [
        "# getting some information about the dataset\n",
        "customer_data.info()"
      ],
      "metadata": {
        "colab": {
          "base_uri": "https://localhost:8080/"
        },
        "id": "NO3LDeagwFVd",
        "outputId": "a62cb1ed-b5ed-43cd-f118-1289df550deb"
      },
      "execution_count": null,
      "outputs": [
        {
          "output_type": "stream",
          "name": "stdout",
          "text": [
            "<class 'pandas.core.frame.DataFrame'>\n",
            "RangeIndex: 200 entries, 0 to 199\n",
            "Data columns (total 5 columns):\n",
            " #   Column                  Non-Null Count  Dtype \n",
            "---  ------                  --------------  ----- \n",
            " 0   CustomerID              200 non-null    int64 \n",
            " 1   Gender                  200 non-null    object\n",
            " 2   Age                     200 non-null    int64 \n",
            " 3   Annual Income (k$)      200 non-null    int64 \n",
            " 4   Spending Score (1-100)  200 non-null    int64 \n",
            "dtypes: int64(4), object(1)\n",
            "memory usage: 7.9+ KB\n"
          ]
        }
      ]
    },
    {
      "cell_type": "code",
      "source": [
        "# checking for missing values\n",
        "customer_data.isnull().sum()\n",
        "\n",
        "# if there was missing values then we need to follow various \n",
        "# methods called imputation to replace those missing values with suitable values."
      ],
      "metadata": {
        "colab": {
          "base_uri": "https://localhost:8080/"
        },
        "id": "V2Siq069wSXq",
        "outputId": "b2241c4c-459b-4e64-e546-4269439a07ef"
      },
      "execution_count": null,
      "outputs": [
        {
          "output_type": "execute_result",
          "data": {
            "text/plain": [
              "CustomerID                0\n",
              "Gender                    0\n",
              "Age                       0\n",
              "Annual Income (k$)        0\n",
              "Spending Score (1-100)    0\n",
              "dtype: int64"
            ]
          },
          "metadata": {},
          "execution_count": 6
        }
      ]
    },
    {
      "cell_type": "markdown",
      "source": [
        "Choosing the Annual income column & spending Score column"
      ],
      "metadata": {
        "id": "-iG8eFMUxPRb"
      }
    },
    {
      "cell_type": "code",
      "source": [
        "# Description of the dataset\n",
        "customer_data.describe()"
      ],
      "metadata": {
        "colab": {
          "base_uri": "https://localhost:8080/",
          "height": 300
        },
        "id": "QPeq9d_YL2i1",
        "outputId": "eca7cd14-580b-46ca-9b7b-fe2654b2fe3f"
      },
      "execution_count": null,
      "outputs": [
        {
          "output_type": "execute_result",
          "data": {
            "text/plain": [
              "       CustomerID         Age  Annual Income (k$)  Spending Score (1-100)\n",
              "count  200.000000  200.000000          200.000000              200.000000\n",
              "mean   100.500000   38.850000           60.560000               50.200000\n",
              "std     57.879185   13.969007           26.264721               25.823522\n",
              "min      1.000000   18.000000           15.000000                1.000000\n",
              "25%     50.750000   28.750000           41.500000               34.750000\n",
              "50%    100.500000   36.000000           61.500000               50.000000\n",
              "75%    150.250000   49.000000           78.000000               73.000000\n",
              "max    200.000000   70.000000          137.000000               99.000000"
            ],
            "text/html": [
              "\n",
              "  <div id=\"df-9b377ec7-60ea-42a5-a602-08275be57cf9\">\n",
              "    <div class=\"colab-df-container\">\n",
              "      <div>\n",
              "<style scoped>\n",
              "    .dataframe tbody tr th:only-of-type {\n",
              "        vertical-align: middle;\n",
              "    }\n",
              "\n",
              "    .dataframe tbody tr th {\n",
              "        vertical-align: top;\n",
              "    }\n",
              "\n",
              "    .dataframe thead th {\n",
              "        text-align: right;\n",
              "    }\n",
              "</style>\n",
              "<table border=\"1\" class=\"dataframe\">\n",
              "  <thead>\n",
              "    <tr style=\"text-align: right;\">\n",
              "      <th></th>\n",
              "      <th>CustomerID</th>\n",
              "      <th>Age</th>\n",
              "      <th>Annual Income (k$)</th>\n",
              "      <th>Spending Score (1-100)</th>\n",
              "    </tr>\n",
              "  </thead>\n",
              "  <tbody>\n",
              "    <tr>\n",
              "      <th>count</th>\n",
              "      <td>200.000000</td>\n",
              "      <td>200.000000</td>\n",
              "      <td>200.000000</td>\n",
              "      <td>200.000000</td>\n",
              "    </tr>\n",
              "    <tr>\n",
              "      <th>mean</th>\n",
              "      <td>100.500000</td>\n",
              "      <td>38.850000</td>\n",
              "      <td>60.560000</td>\n",
              "      <td>50.200000</td>\n",
              "    </tr>\n",
              "    <tr>\n",
              "      <th>std</th>\n",
              "      <td>57.879185</td>\n",
              "      <td>13.969007</td>\n",
              "      <td>26.264721</td>\n",
              "      <td>25.823522</td>\n",
              "    </tr>\n",
              "    <tr>\n",
              "      <th>min</th>\n",
              "      <td>1.000000</td>\n",
              "      <td>18.000000</td>\n",
              "      <td>15.000000</td>\n",
              "      <td>1.000000</td>\n",
              "    </tr>\n",
              "    <tr>\n",
              "      <th>25%</th>\n",
              "      <td>50.750000</td>\n",
              "      <td>28.750000</td>\n",
              "      <td>41.500000</td>\n",
              "      <td>34.750000</td>\n",
              "    </tr>\n",
              "    <tr>\n",
              "      <th>50%</th>\n",
              "      <td>100.500000</td>\n",
              "      <td>36.000000</td>\n",
              "      <td>61.500000</td>\n",
              "      <td>50.000000</td>\n",
              "    </tr>\n",
              "    <tr>\n",
              "      <th>75%</th>\n",
              "      <td>150.250000</td>\n",
              "      <td>49.000000</td>\n",
              "      <td>78.000000</td>\n",
              "      <td>73.000000</td>\n",
              "    </tr>\n",
              "    <tr>\n",
              "      <th>max</th>\n",
              "      <td>200.000000</td>\n",
              "      <td>70.000000</td>\n",
              "      <td>137.000000</td>\n",
              "      <td>99.000000</td>\n",
              "    </tr>\n",
              "  </tbody>\n",
              "</table>\n",
              "</div>\n",
              "      <button class=\"colab-df-convert\" onclick=\"convertToInteractive('df-9b377ec7-60ea-42a5-a602-08275be57cf9')\"\n",
              "              title=\"Convert this dataframe to an interactive table.\"\n",
              "              style=\"display:none;\">\n",
              "        \n",
              "  <svg xmlns=\"http://www.w3.org/2000/svg\" height=\"24px\"viewBox=\"0 0 24 24\"\n",
              "       width=\"24px\">\n",
              "    <path d=\"M0 0h24v24H0V0z\" fill=\"none\"/>\n",
              "    <path d=\"M18.56 5.44l.94 2.06.94-2.06 2.06-.94-2.06-.94-.94-2.06-.94 2.06-2.06.94zm-11 1L8.5 8.5l.94-2.06 2.06-.94-2.06-.94L8.5 2.5l-.94 2.06-2.06.94zm10 10l.94 2.06.94-2.06 2.06-.94-2.06-.94-.94-2.06-.94 2.06-2.06.94z\"/><path d=\"M17.41 7.96l-1.37-1.37c-.4-.4-.92-.59-1.43-.59-.52 0-1.04.2-1.43.59L10.3 9.45l-7.72 7.72c-.78.78-.78 2.05 0 2.83L4 21.41c.39.39.9.59 1.41.59.51 0 1.02-.2 1.41-.59l7.78-7.78 2.81-2.81c.8-.78.8-2.07 0-2.86zM5.41 20L4 18.59l7.72-7.72 1.47 1.35L5.41 20z\"/>\n",
              "  </svg>\n",
              "      </button>\n",
              "      \n",
              "  <style>\n",
              "    .colab-df-container {\n",
              "      display:flex;\n",
              "      flex-wrap:wrap;\n",
              "      gap: 12px;\n",
              "    }\n",
              "\n",
              "    .colab-df-convert {\n",
              "      background-color: #E8F0FE;\n",
              "      border: none;\n",
              "      border-radius: 50%;\n",
              "      cursor: pointer;\n",
              "      display: none;\n",
              "      fill: #1967D2;\n",
              "      height: 32px;\n",
              "      padding: 0 0 0 0;\n",
              "      width: 32px;\n",
              "    }\n",
              "\n",
              "    .colab-df-convert:hover {\n",
              "      background-color: #E2EBFA;\n",
              "      box-shadow: 0px 1px 2px rgba(60, 64, 67, 0.3), 0px 1px 3px 1px rgba(60, 64, 67, 0.15);\n",
              "      fill: #174EA6;\n",
              "    }\n",
              "\n",
              "    [theme=dark] .colab-df-convert {\n",
              "      background-color: #3B4455;\n",
              "      fill: #D2E3FC;\n",
              "    }\n",
              "\n",
              "    [theme=dark] .colab-df-convert:hover {\n",
              "      background-color: #434B5C;\n",
              "      box-shadow: 0px 1px 3px 1px rgba(0, 0, 0, 0.15);\n",
              "      filter: drop-shadow(0px 1px 2px rgba(0, 0, 0, 0.3));\n",
              "      fill: #FFFFFF;\n",
              "    }\n",
              "  </style>\n",
              "\n",
              "      <script>\n",
              "        const buttonEl =\n",
              "          document.querySelector('#df-9b377ec7-60ea-42a5-a602-08275be57cf9 button.colab-df-convert');\n",
              "        buttonEl.style.display =\n",
              "          google.colab.kernel.accessAllowed ? 'block' : 'none';\n",
              "\n",
              "        async function convertToInteractive(key) {\n",
              "          const element = document.querySelector('#df-9b377ec7-60ea-42a5-a602-08275be57cf9');\n",
              "          const dataTable =\n",
              "            await google.colab.kernel.invokeFunction('convertToInteractive',\n",
              "                                                     [key], {});\n",
              "          if (!dataTable) return;\n",
              "\n",
              "          const docLinkHtml = 'Like what you see? Visit the ' +\n",
              "            '<a target=\"_blank\" href=https://colab.research.google.com/notebooks/data_table.ipynb>data table notebook</a>'\n",
              "            + ' to learn more about interactive tables.';\n",
              "          element.innerHTML = '';\n",
              "          dataTable['output_type'] = 'display_data';\n",
              "          await google.colab.output.renderOutput(dataTable, element);\n",
              "          const docLink = document.createElement('div');\n",
              "          docLink.innerHTML = docLinkHtml;\n",
              "          element.appendChild(docLink);\n",
              "        }\n",
              "      </script>\n",
              "    </div>\n",
              "  </div>\n",
              "  "
            ]
          },
          "metadata": {},
          "execution_count": 7
        }
      ]
    },
    {
      "cell_type": "markdown",
      "source": [
        "**Data Visualisation**"
      ],
      "metadata": {
        "id": "063AK1eeMrAu"
      }
    },
    {
      "cell_type": "code",
      "source": [
        "customer_data.head()"
      ],
      "metadata": {
        "colab": {
          "base_uri": "https://localhost:8080/",
          "height": 206
        },
        "id": "XtJx2WFOMp3Z",
        "outputId": "f87652e8-7215-4e3a-82e2-d82b75e08f44"
      },
      "execution_count": null,
      "outputs": [
        {
          "output_type": "execute_result",
          "data": {
            "text/plain": [
              "   CustomerID  Gender  Age  Annual Income (k$)  Spending Score (1-100)\n",
              "0           1    Male   19                  15                      39\n",
              "1           2    Male   21                  15                      81\n",
              "2           3  Female   20                  16                       6\n",
              "3           4  Female   23                  16                      77\n",
              "4           5  Female   31                  17                      40"
            ],
            "text/html": [
              "\n",
              "  <div id=\"df-1b0a5fad-84fc-4887-822d-56083b005a76\">\n",
              "    <div class=\"colab-df-container\">\n",
              "      <div>\n",
              "<style scoped>\n",
              "    .dataframe tbody tr th:only-of-type {\n",
              "        vertical-align: middle;\n",
              "    }\n",
              "\n",
              "    .dataframe tbody tr th {\n",
              "        vertical-align: top;\n",
              "    }\n",
              "\n",
              "    .dataframe thead th {\n",
              "        text-align: right;\n",
              "    }\n",
              "</style>\n",
              "<table border=\"1\" class=\"dataframe\">\n",
              "  <thead>\n",
              "    <tr style=\"text-align: right;\">\n",
              "      <th></th>\n",
              "      <th>CustomerID</th>\n",
              "      <th>Gender</th>\n",
              "      <th>Age</th>\n",
              "      <th>Annual Income (k$)</th>\n",
              "      <th>Spending Score (1-100)</th>\n",
              "    </tr>\n",
              "  </thead>\n",
              "  <tbody>\n",
              "    <tr>\n",
              "      <th>0</th>\n",
              "      <td>1</td>\n",
              "      <td>Male</td>\n",
              "      <td>19</td>\n",
              "      <td>15</td>\n",
              "      <td>39</td>\n",
              "    </tr>\n",
              "    <tr>\n",
              "      <th>1</th>\n",
              "      <td>2</td>\n",
              "      <td>Male</td>\n",
              "      <td>21</td>\n",
              "      <td>15</td>\n",
              "      <td>81</td>\n",
              "    </tr>\n",
              "    <tr>\n",
              "      <th>2</th>\n",
              "      <td>3</td>\n",
              "      <td>Female</td>\n",
              "      <td>20</td>\n",
              "      <td>16</td>\n",
              "      <td>6</td>\n",
              "    </tr>\n",
              "    <tr>\n",
              "      <th>3</th>\n",
              "      <td>4</td>\n",
              "      <td>Female</td>\n",
              "      <td>23</td>\n",
              "      <td>16</td>\n",
              "      <td>77</td>\n",
              "    </tr>\n",
              "    <tr>\n",
              "      <th>4</th>\n",
              "      <td>5</td>\n",
              "      <td>Female</td>\n",
              "      <td>31</td>\n",
              "      <td>17</td>\n",
              "      <td>40</td>\n",
              "    </tr>\n",
              "  </tbody>\n",
              "</table>\n",
              "</div>\n",
              "      <button class=\"colab-df-convert\" onclick=\"convertToInteractive('df-1b0a5fad-84fc-4887-822d-56083b005a76')\"\n",
              "              title=\"Convert this dataframe to an interactive table.\"\n",
              "              style=\"display:none;\">\n",
              "        \n",
              "  <svg xmlns=\"http://www.w3.org/2000/svg\" height=\"24px\"viewBox=\"0 0 24 24\"\n",
              "       width=\"24px\">\n",
              "    <path d=\"M0 0h24v24H0V0z\" fill=\"none\"/>\n",
              "    <path d=\"M18.56 5.44l.94 2.06.94-2.06 2.06-.94-2.06-.94-.94-2.06-.94 2.06-2.06.94zm-11 1L8.5 8.5l.94-2.06 2.06-.94-2.06-.94L8.5 2.5l-.94 2.06-2.06.94zm10 10l.94 2.06.94-2.06 2.06-.94-2.06-.94-.94-2.06-.94 2.06-2.06.94z\"/><path d=\"M17.41 7.96l-1.37-1.37c-.4-.4-.92-.59-1.43-.59-.52 0-1.04.2-1.43.59L10.3 9.45l-7.72 7.72c-.78.78-.78 2.05 0 2.83L4 21.41c.39.39.9.59 1.41.59.51 0 1.02-.2 1.41-.59l7.78-7.78 2.81-2.81c.8-.78.8-2.07 0-2.86zM5.41 20L4 18.59l7.72-7.72 1.47 1.35L5.41 20z\"/>\n",
              "  </svg>\n",
              "      </button>\n",
              "      \n",
              "  <style>\n",
              "    .colab-df-container {\n",
              "      display:flex;\n",
              "      flex-wrap:wrap;\n",
              "      gap: 12px;\n",
              "    }\n",
              "\n",
              "    .colab-df-convert {\n",
              "      background-color: #E8F0FE;\n",
              "      border: none;\n",
              "      border-radius: 50%;\n",
              "      cursor: pointer;\n",
              "      display: none;\n",
              "      fill: #1967D2;\n",
              "      height: 32px;\n",
              "      padding: 0 0 0 0;\n",
              "      width: 32px;\n",
              "    }\n",
              "\n",
              "    .colab-df-convert:hover {\n",
              "      background-color: #E2EBFA;\n",
              "      box-shadow: 0px 1px 2px rgba(60, 64, 67, 0.3), 0px 1px 3px 1px rgba(60, 64, 67, 0.15);\n",
              "      fill: #174EA6;\n",
              "    }\n",
              "\n",
              "    [theme=dark] .colab-df-convert {\n",
              "      background-color: #3B4455;\n",
              "      fill: #D2E3FC;\n",
              "    }\n",
              "\n",
              "    [theme=dark] .colab-df-convert:hover {\n",
              "      background-color: #434B5C;\n",
              "      box-shadow: 0px 1px 3px 1px rgba(0, 0, 0, 0.15);\n",
              "      filter: drop-shadow(0px 1px 2px rgba(0, 0, 0, 0.3));\n",
              "      fill: #FFFFFF;\n",
              "    }\n",
              "  </style>\n",
              "\n",
              "      <script>\n",
              "        const buttonEl =\n",
              "          document.querySelector('#df-1b0a5fad-84fc-4887-822d-56083b005a76 button.colab-df-convert');\n",
              "        buttonEl.style.display =\n",
              "          google.colab.kernel.accessAllowed ? 'block' : 'none';\n",
              "\n",
              "        async function convertToInteractive(key) {\n",
              "          const element = document.querySelector('#df-1b0a5fad-84fc-4887-822d-56083b005a76');\n",
              "          const dataTable =\n",
              "            await google.colab.kernel.invokeFunction('convertToInteractive',\n",
              "                                                     [key], {});\n",
              "          if (!dataTable) return;\n",
              "\n",
              "          const docLinkHtml = 'Like what you see? Visit the ' +\n",
              "            '<a target=\"_blank\" href=https://colab.research.google.com/notebooks/data_table.ipynb>data table notebook</a>'\n",
              "            + ' to learn more about interactive tables.';\n",
              "          element.innerHTML = '';\n",
              "          dataTable['output_type'] = 'display_data';\n",
              "          await google.colab.output.renderOutput(dataTable, element);\n",
              "          const docLink = document.createElement('div');\n",
              "          docLink.innerHTML = docLinkHtml;\n",
              "          element.appendChild(docLink);\n",
              "        }\n",
              "      </script>\n",
              "    </div>\n",
              "  </div>\n",
              "  "
            ]
          },
          "metadata": {},
          "execution_count": 8
        }
      ]
    },
    {
      "cell_type": "code",
      "source": [
        "# counting number of males and female in the dataset.\n",
        "m_count = 0\n",
        "f_count = 0\n",
        "\n",
        "gender = customer_data['Gender'].values\n",
        "\n",
        "for i in range(0,len(gender)):\n",
        "  if gender[i] == 'Male':\n",
        "    m_count = m_count + 1\n",
        "  else:\n",
        "    f_count = f_count + 1\n",
        "\n",
        "gender = [m_count,f_count]\n",
        "\n",
        "mylabels = ['Male','Female']\n",
        "colors1 = ['#66b3ff','#ff9999']\n",
        "plt.pie(gender,labels=mylabels,autopct='%1.2f%%',colors=colors1)\n",
        "plt.plot()"
      ],
      "metadata": {
        "colab": {
          "base_uri": "https://localhost:8080/",
          "height": 265
        },
        "id": "-yKU-a12UqOV",
        "outputId": "49aa13d4-bb37-4946-ef59-bb44c209eed5"
      },
      "execution_count": null,
      "outputs": [
        {
          "output_type": "execute_result",
          "data": {
            "text/plain": [
              "[]"
            ]
          },
          "metadata": {},
          "execution_count": 9
        },
        {
          "output_type": "display_data",
          "data": {
            "text/plain": [
              "<Figure size 432x288 with 1 Axes>"
            ],
            "image/png": "[encoded data removed]"
          },
          "metadata": {}
        }
      ]
    },
    {
      "cell_type": "code",
      "source": [
        "# plt.figure(figsize=(20,8))\n",
        "plt.hist(customer_data['Age'])\n",
        "plt.title('Age of the people')\n",
        "plt.xlabel('Age range')\n",
        "plt.ylabel('count')\n",
        "plt.show()"
      ],
      "metadata": {
        "colab": {
          "base_uri": "https://localhost:8080/",
          "height": 301
        },
        "id": "poTr1u8izMO9",
        "outputId": "441ba51f-82d4-45dd-b5ed-a1d5b9ab00b6"
      },
      "execution_count": null,
      "outputs": [
        {
          "output_type": "display_data",
          "data": {
            "text/plain": [
              "<Figure size 432x288 with 1 Axes>"
            ],
            "image/png": "[encoded data removed]"
          },
          "metadata": {}
        }
      ]
    },
    {
      "cell_type": "code",
      "source": [
        "# plt.figure(figsize=(20,8))\n",
        "plt.hist(customer_data['Annual Income (k$)'],color='green')\n",
        "plt.title('Annual Income')\n",
        "plt.xlabel('Annual Income (K$) range')\n",
        "plt.ylabel('count')\n",
        "plt.show()"
      ],
      "metadata": {
        "colab": {
          "base_uri": "https://localhost:8080/",
          "height": 301
        },
        "id": "uFgCbjauy9Zd",
        "outputId": "cd16d6ad-d640-422c-cab4-5242d6d492cb"
      },
      "execution_count": null,
      "outputs": [
        {
          "output_type": "display_data",
          "data": {
            "text/plain": [
              "<Figure size 432x288 with 1 Axes>"
            ],
            "image/png": "[encoded data removed]"
          },
          "metadata": {}
        }
      ]
    },
    {
      "cell_type": "code",
      "source": [
        "# plt.figure(figsize=(20,8))\n",
        "plt.hist(customer_data['Spending Score (1-100)'],color='red')\n",
        "plt.title('Spending Score of the customer (1-100)')\n",
        "plt.xlabel('Spending Score')\n",
        "plt.ylabel('count')\n",
        "plt.show()"
      ],
      "metadata": {
        "colab": {
          "base_uri": "https://localhost:8080/",
          "height": 301
        },
        "id": "RyIiUh3L06z_",
        "outputId": "5654d8d2-4d0f-4bc6-ea4b-4d8d32e03e4d"
      },
      "execution_count": null,
      "outputs": [
        {
          "output_type": "display_data",
          "data": {
            "text/plain": [
              "<Figure size 432x288 with 1 Axes>"
            ],
            "image/png": "[encoded data removed]"
          },
          "metadata": {}
        }
      ]
    },
    {
      "cell_type": "code",
      "source": [
        "plt.figure(figsize=(20,8))\n",
        "sns.barplot(x='Age',y='Annual Income (k$)',data=customer_data)\n",
        "plt.title('Age of the people with Annual Income')\n",
        "plt.xlabel(\"People's Age\")\n",
        "plt.ylabel('Annual Income in (k$)')"
      ],
      "metadata": {
        "colab": {
          "base_uri": "https://localhost:8080/",
          "height": 434
        },
        "id": "RKGAg6B9NWhH",
        "outputId": "694ce316-7413-4959-e191-e0f1335d9805"
      },
      "execution_count": null,
      "outputs": [
        {
          "output_type": "execute_result",
          "data": {
            "text/plain": [
              "Text(0, 0.5, 'Annual Income in (k$)')"
            ]
          },
          "metadata": {},
          "execution_count": 10
        },
        {
          "output_type": "display_data",
          "data": {
            "text/plain": [
              "<Figure size 1440x576 with 1 Axes>"
            ],
            "image/png": "[encoded data removed]"
          },
          "metadata": {
            "needs_background": "light"
          }
        }
      ]
    },
    {
      "cell_type": "code",
      "source": [
        "sns.barplot(x='Gender',y='Annual Income (k$)',data=customer_data)\n",
        "plt.title('Gender and Annual Income')\n",
        "plt.xlabel(\"Gender\")\n",
        "plt.ylabel('Annual Income in (k$)')\n",
        "\n",
        "# Males have more Annual income."
      ],
      "metadata": {
        "colab": {
          "base_uri": "https://localhost:8080/",
          "height": 312
        },
        "id": "tX85NkFZRuUo",
        "outputId": "417f6e95-cad3-40db-b6f4-bfd5fba89ea3"
      },
      "execution_count": null,
      "outputs": [
        {
          "output_type": "execute_result",
          "data": {
            "text/plain": [
              "Text(0, 0.5, 'Annual Income in (k$)')"
            ]
          },
          "metadata": {},
          "execution_count": 12
        },
        {
          "output_type": "display_data",
          "data": {
            "text/plain": [
              "<Figure size 432x288 with 1 Axes>"
            ],
            "image/png": "[encoded data removed]"
          },
          "metadata": {
            "needs_background": "light"
          }
        }
      ]
    },
    {
      "cell_type": "code",
      "source": [
        "plt.figure(figsize=(20,8))\n",
        "sns.barplot(x='Age',y='Spending Score (1-100)',data=customer_data)\n",
        "plt.title('Age of the people with Spending Score (1-100)')\n",
        "plt.xlabel(\"People's Age\")\n",
        "plt.ylabel('Spending Score (1-100)')\n",
        "\n",
        "# People who are under 40 have very good spending score so the mall is generating more revenue from the customer of age under 40.\n",
        "# The mall should have relevant products which is useful for this category of customers."
      ],
      "metadata": {
        "colab": {
          "base_uri": "https://localhost:8080/",
          "height": 436
        },
        "id": "VKPddrN7Sh1B",
        "outputId": "1bc3328f-cff3-4273-9aa6-91284659a800"
      },
      "execution_count": null,
      "outputs": [
        {
          "output_type": "execute_result",
          "data": {
            "text/plain": [
              "Text(0, 0.5, 'Spending Score (1-100)')"
            ]
          },
          "metadata": {},
          "execution_count": 13
        },
        {
          "output_type": "display_data",
          "data": {
            "text/plain": [
              "<Figure size 1440x576 with 1 Axes>"
            ],
            "image/png": "[encoded data removed]"
          },
          "metadata": {
            "needs_background": "light"
          }
        }
      ]
    },
    {
      "cell_type": "code",
      "source": [
        "sns.barplot(x='Gender',y='Spending Score (1-100)',data=customer_data)\n",
        "plt.title('Gender with Spending Score (1-100)')\n",
        "plt.xlabel(\"Gender\")\n",
        "plt.ylabel('Spending Score (1-100)')\n",
        "\n",
        "# Female have more spending score then male.\n",
        "# mall should have more Attractive Girl products "
      ],
      "metadata": {
        "colab": {
          "base_uri": "https://localhost:8080/",
          "height": 312
        },
        "id": "nNmqIIIoTyAj",
        "outputId": "7ab7c630-fe66-4f26-939e-24ddc535c80c"
      },
      "execution_count": null,
      "outputs": [
        {
          "output_type": "execute_result",
          "data": {
            "text/plain": [
              "Text(0, 0.5, 'Spending Score (1-100)')"
            ]
          },
          "metadata": {},
          "execution_count": 14
        },
        {
          "output_type": "display_data",
          "data": {
            "text/plain": [
              "<Figure size 432x288 with 1 Axes>"
            ],
            "image/png": "[encoded data removed]"
          },
          "metadata": {
            "needs_background": "light"
          }
        }
      ]
    },
    {
      "cell_type": "code",
      "source": [
        "plt.figure(figsize=(20,8))\n",
        "sns.jointplot(x='Annual Income (k$)',y='Spending Score (1-100)',data=customer_data)\n",
        "# plt.title('Annual Income with Spending Score ')\n",
        "plt.ylabel(\"Spending Score\")\n",
        "plt.xlabel('Annual Income in (k$)')"
      ],
      "metadata": {
        "colab": {
          "base_uri": "https://localhost:8080/",
          "height": 472
        },
        "id": "zmIvsE3Pv3x_",
        "outputId": "82988ec8-c7e4-4333-d90f-9b608a4909ef"
      },
      "execution_count": null,
      "outputs": [
        {
          "output_type": "execute_result",
          "data": {
            "text/plain": [
              "Text(0.5, 49.99999999999995, 'Annual Income in (k$)')"
            ]
          },
          "metadata": {},
          "execution_count": 24
        },
        {
          "output_type": "display_data",
          "data": {
            "text/plain": [
              "<Figure size 1440x576 with 0 Axes>"
            ]
          },
          "metadata": {}
        },
        {
          "output_type": "display_data",
          "data": {
            "text/plain": [
              "<Figure size 432x432 with 3 Axes>"
            ],
            "image/png": "[encoded data removed]"
          },
          "metadata": {}
        }
      ]
    },
    {
      "cell_type": "code",
      "source": [
        "X = customer_data.iloc[:,[3,4]].values\n",
        "# print(customer_data.iloc[105,[4]].values)\n",
        "print(X)"
      ],
      "metadata": {
        "colab": {
          "base_uri": "https://localhost:8080/"
        },
        "id": "0Mob2s6Ewklx",
        "outputId": "0d3cf468-a8f4-4204-b83f-f181153c8c45"
      },
      "execution_count": null,
      "outputs": [
        {
          "output_type": "stream",
          "name": "stdout",
          "text": [
            "[[ 15  39]\n",
            " [ 15  81]\n",
            " [ 16   6]\n",
            " [ 16  77]\n",
            " [ 17  40]\n",
            " [ 17  76]\n",
            " [ 18   6]\n",
            " [ 18  94]\n",
            " [ 19   3]\n",
            " [ 19  72]\n",
            " [ 19  14]\n",
            " [ 19  99]\n",
            " [ 20  15]\n",
            " [ 20  77]\n",
            " [ 20  13]\n",
            " [ 20  79]\n",
            " [ 21  35]\n",
            " [ 21  66]\n",
            " [ 23  29]\n",
            " [ 23  98]\n",
            " [ 24  35]\n",
            " [ 24  73]\n",
            " [ 25   5]\n",
            " [ 25  73]\n",
            " [ 28  14]\n",
            " [ 28  82]\n",
            " [ 28  32]\n",
            " [ 28  61]\n",
            " [ 29  31]\n",
            " [ 29  87]\n",
            " [ 30   4]\n",
            " [ 30  73]\n",
            " [ 33   4]\n",
            " [ 33  92]\n",
            " [ 33  14]\n",
            " [ 33  81]\n",
            " [ 34  17]\n",
            " [ 34  73]\n",
            " [ 37  26]\n",
            " [ 37  75]\n",
            " [ 38  35]\n",
            " [ 38  92]\n",
            " [ 39  36]\n",
            " [ 39  61]\n",
            " [ 39  28]\n",
            " [ 39  65]\n",
            " [ 40  55]\n",
            " [ 40  47]\n",
            " [ 40  42]\n",
            " [ 40  42]\n",
            " [ 42  52]\n",
            " [ 42  60]\n",
            " [ 43  54]\n",
            " [ 43  60]\n",
            " [ 43  45]\n",
            " [ 43  41]\n",
            " [ 44  50]\n",
            " [ 44  46]\n",
            " [ 46  51]\n",
            " [ 46  46]\n",
            " [ 46  56]\n",
            " [ 46  55]\n",
            " [ 47  52]\n",
            " [ 47  59]\n",
            " [ 48  51]\n",
            " [ 48  59]\n",
            " [ 48  50]\n",
            " [ 48  48]\n",
            " [ 48  59]\n",
            " [ 48  47]\n",
            " [ 49  55]\n",
            " [ 49  42]\n",
            " [ 50  49]\n",
            " [ 50  56]\n",
            " [ 54  47]\n",
            " [ 54  54]\n",
            " [ 54  53]\n",
            " [ 54  48]\n",
            " [ 54  52]\n",
            " [ 54  42]\n",
            " [ 54  51]\n",
            " [ 54  55]\n",
            " [ 54  41]\n",
            " [ 54  44]\n",
            " [ 54  57]\n",
            " [ 54  46]\n",
            " [ 57  58]\n",
            " [ 57  55]\n",
            " [ 58  60]\n",
            " [ 58  46]\n",
            " [ 59  55]\n",
            " [ 59  41]\n",
            " [ 60  49]\n",
            " [ 60  40]\n",
            " [ 60  42]\n",
            " [ 60  52]\n",
            " [ 60  47]\n",
            " [ 60  50]\n",
            " [ 61  42]\n",
            " [ 61  49]\n",
            " [ 62  41]\n",
            " [ 62  48]\n",
            " [ 62  59]\n",
            " [ 62  55]\n",
            " [ 62  56]\n",
            " [ 62  42]\n",
            " [ 63  50]\n",
            " [ 63  46]\n",
            " [ 63  43]\n",
            " [ 63  48]\n",
            " [ 63  52]\n",
            " [ 63  54]\n",
            " [ 64  42]\n",
            " [ 64  46]\n",
            " [ 65  48]\n",
            " [ 65  50]\n",
            " [ 65  43]\n",
            " [ 65  59]\n",
            " [ 67  43]\n",
            " [ 67  57]\n",
            " [ 67  56]\n",
            " [ 67  40]\n",
            " [ 69  58]\n",
            " [ 69  91]\n",
            " [ 70  29]\n",
            " [ 70  77]\n",
            " [ 71  35]\n",
            " [ 71  95]\n",
            " [ 71  11]\n",
            " [ 71  75]\n",
            " [ 71   9]\n",
            " [ 71  75]\n",
            " [ 72  34]\n",
            " [ 72  71]\n",
            " [ 73   5]\n",
            " [ 73  88]\n",
            " [ 73   7]\n",
            " [ 73  73]\n",
            " [ 74  10]\n",
            " [ 74  72]\n",
            " [ 75   5]\n",
            " [ 75  93]\n",
            " [ 76  40]\n",
            " [ 76  87]\n",
            " [ 77  12]\n",
            " [ 77  97]\n",
            " [ 77  36]\n",
            " [ 77  74]\n",
            " [ 78  22]\n",
            " [ 78  90]\n",
            " [ 78  17]\n",
            " [ 78  88]\n",
            " [ 78  20]\n",
            " [ 78  76]\n",
            " [ 78  16]\n",
            " [ 78  89]\n",
            " [ 78   1]\n",
            " [ 78  78]\n",
            " [ 78   1]\n",
            " [ 78  73]\n",
            " [ 79  35]\n",
            " [ 79  83]\n",
            " [ 81   5]\n",
            " [ 81  93]\n",
            " [ 85  26]\n",
            " [ 85  75]\n",
            " [ 86  20]\n",
            " [ 86  95]\n",
            " [ 87  27]\n",
            " [ 87  63]\n",
            " [ 87  13]\n",
            " [ 87  75]\n",
            " [ 87  10]\n",
            " [ 87  92]\n",
            " [ 88  13]\n",
            " [ 88  86]\n",
            " [ 88  15]\n",
            " [ 88  69]\n",
            " [ 93  14]\n",
            " [ 93  90]\n",
            " [ 97  32]\n",
            " [ 97  86]\n",
            " [ 98  15]\n",
            " [ 98  88]\n",
            " [ 99  39]\n",
            " [ 99  97]\n",
            " [101  24]\n",
            " [101  68]\n",
            " [103  17]\n",
            " [103  85]\n",
            " [103  23]\n",
            " [103  69]\n",
            " [113   8]\n",
            " [113  91]\n",
            " [120  16]\n",
            " [120  79]\n",
            " [126  28]\n",
            " [126  74]\n",
            " [137  18]\n",
            " [137  83]]\n"
          ]
        }
      ]
    },
    {
      "cell_type": "markdown",
      "source": [
        "# Optimum number of clusters"
      ],
      "metadata": {
        "id": "Rlmr2vBt0dX0"
      }
    },
    {
      "cell_type": "markdown",
      "source": [
        "Choosing the possible number of clusters in the datasets.\n",
        "\n",
        "using WCSS i.e. Within Clusters Sum of Squares.\n",
        "\n",
        "--------------------------------------------------------------------------\n",
        "\n",
        "![image.png](data:image/png;base64,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)\n",
        "\n",
        "----------------------------------------------------------------------------\n",
        "\n",
        "![image.png](data:image/png;base64,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)\n",
        "\n",
        "--------------------------------------------------------------------------------\n",
        "\n",
        "Need to create elbow graph and we will see that which number of clusters has minimum WCSS values\n",
        "\n",
        "elbow graph like this: -\n",
        "\n",
        "![image.png](data:image/png;base64,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)\n",
        "\n"
      ],
      "metadata": {
        "id": "xhoLfVcf0q7I"
      }
    },
    {
      "cell_type": "code",
      "source": [
        "# finding wcss value for different number of clusters\n",
        "\n",
        "# Initailly we will find wcss value for when we consider one cluster, then we will find wcss value for when we consider two clusters, ..., then we will find wcss value for when we consider N clusters.\n",
        "# we need to determine for which number of cluster we get minimum wcss value. suppose we have noticed that for 3 no. of cluster we have minimum wcss value then we will have Three clusters i.e. Three different categories.\n",
        "wcss = []\n",
        "\n",
        "for i in range(1,11):\n",
        "  kmeans = KMeans(n_clusters=i, init='k-means++', random_state=42)\n",
        "  kmeans.fit(X)\n",
        "\n",
        "  wcss.append(kmeans.inertia_)"
      ],
      "metadata": {
        "id": "U1t6_LK73z1G"
      },
      "execution_count": null,
      "outputs": []
    },
    {
      "cell_type": "code",
      "source": [
        "# plot as elbow graph\n",
        "\n",
        "sns.set()\n",
        "plt.plot(range(1,11),wcss)\n",
        "plt.title('This Elbow Point Graph')\n",
        "plt.xlabel('No. of Clusters')\n",
        "plt.ylabel('WCSS')\n",
        "plt.show()"
      ],
      "metadata": {
        "colab": {
          "base_uri": "https://localhost:8080/",
          "height": 301
        },
        "id": "uzFIkRP26Vpc",
        "outputId": "780e6c8d-9d67-440d-ea19-f460a93f461e"
      },
      "execution_count": null,
      "outputs": [
        {
          "output_type": "display_data",
          "data": {
            "text/plain": [
              "<Figure size 432x288 with 1 Axes>"
            ],
            "image/png": "[encoded data removed]"
          },
          "metadata": {}
        }
      ]
    },
    {
      "cell_type": "markdown",
      "source": [
        "Here we will choose value 5 i.e. 5 No. of clusters.\n",
        " \n",
        "because after that point of value there is no significant drop of values."
      ],
      "metadata": {
        "id": "OCaU47rM66k7"
      }
    },
    {
      "cell_type": "markdown",
      "source": [
        "***Optimum number of clusters = 5***"
      ],
      "metadata": {
        "id": "vKiN7kbx7bmk"
      }
    },
    {
      "cell_type": "markdown",
      "source": [
        "# Fit to K-means Clustering Algorithm\n",
        "\n",
        "Training the k-means Clustering Model"
      ],
      "metadata": {
        "id": "ixFdW2p27iUA"
      }
    },
    {
      "cell_type": "code",
      "source": [
        "kmeans = KMeans(n_clusters=5,init='k-means++',random_state=0)\n",
        "\n",
        "# return a label for each data point based on their cluster. \n",
        "# here we required 5 clusters so cluster will be labeled as cluster 0, cluster i,..., cluster 4\n",
        "# Here we have 200 data point, and each data points contains 2 values.\n",
        "\n",
        "Y = kmeans.fit_predict(X)\n",
        "print(Y)"
      ],
      "metadata": {
        "id": "sfC0CNFI6ycm",
        "colab": {
          "base_uri": "https://localhost:8080/"
        },
        "outputId": "3b7b8f78-cf08-4f0c-a2a1-62d0dd4ce12b"
      },
      "execution_count": null,
      "outputs": [
        {
          "output_type": "stream",
          "name": "stdout",
          "text": [
            "[4 3 4 3 4 3 4 3 4 3 4 3 4 3 4 3 4 3 4 3 4 3 4 3 4 3 4 3 4 3 4 3 4 3 4 3 4\n",
            " 3 4 3 4 3 4 1 4 3 1 1 1 1 1 1 1 1 1 1 1 1 1 1 1 1 1 1 1 1 1 1 1 1 1 1 1 1\n",
            " 1 1 1 1 1 1 1 1 1 1 1 1 1 1 1 1 1 1 1 1 1 1 1 1 1 1 1 1 1 1 1 1 1 1 1 1 1\n",
            " 1 1 1 1 1 1 1 1 1 1 1 1 2 0 2 1 2 0 2 0 2 1 2 0 2 0 2 0 2 0 2 1 2 0 2 0 2\n",
            " 0 2 0 2 0 2 0 2 0 2 0 2 0 2 0 2 0 2 0 2 0 2 0 2 0 2 0 2 0 2 0 2 0 2 0 2 0\n",
            " 2 0 2 0 2 0 2 0 2 0 2 0 2 0 2]\n"
          ]
        }
      ]
    },
    {
      "cell_type": "markdown",
      "source": [
        "# Visualizing the cluster."
      ],
      "metadata": {
        "id": "skwLm81B78cy"
      }
    },
    {
      "cell_type": "code",
      "source": [
        "# Plotting all the clusters and their Centeriods\n",
        "\n",
        "# 5 CLusters: - 0,1,2,3,4\n",
        "\n",
        "plt.figure(figsize=(8,8))\n",
        "plt.scatter(X[Y==0,0], X[Y==0,1],s=50,c='orange',label='Cluster 1')\n",
        "plt.scatter(X[Y==1,0], X[Y==1,1],s=50,c='yellow',label='Cluster 2')\n",
        "plt.scatter(X[Y==2,0], X[Y==2,1],s=50,c='blue',label='Cluster 3')\n",
        "plt.scatter(X[Y==3,0], X[Y==3,1],s=50,c='green',label='Cluster 4')\n",
        "plt.scatter(X[Y==4,0], X[Y==4,1],s=50,c='magenta',label='Cluster 5')\n",
        "\n",
        "#plot the centroids \n",
        "plt.scatter(kmeans.cluster_centers_[:,0],kmeans.cluster_centers_[:,1], s=100, c='cyan', label='Centroids' )\n",
        "plt.title('Customer Groups')\n",
        "plt.xlabel('Annual Income')\n",
        "plt.ylabel('Spending Score')\n"
      ],
      "metadata": {
        "colab": {
          "base_uri": "https://localhost:8080/",
          "height": 535
        },
        "id": "E1cg_xjn7Y7Z",
        "outputId": "3f018727-5ff9-4790-9fbb-452474ebda13"
      },
      "execution_count": null,
      "outputs": [
        {
          "output_type": "execute_result",
          "data": {
            "text/plain": [
              "Text(0, 0.5, 'Spending Score')"
            ]
          },
          "metadata": {},
          "execution_count": 21
        },
        {
          "output_type": "display_data",
          "data": {
            "text/plain": [
              "<Figure size 576x576 with 1 Axes>"
            ],
            "image/png": "[encoded data removed]"
          },
          "metadata": {}
        }
      ]
    },
    {
      "cell_type": "markdown",
      "source": [
        "# Conclusion: - \n",
        "\n",
        "***Insights that we get after doing analysis using Customer Segmentation using K-Means Clustering: -***\n",
        "\n",
        "1. Data points marked in pink colour is group of people that have low annual income and they spend less money in the mall, for this type of customers mall arrange surprise gifts so they are more engaged with this organisation.\n",
        "\n",
        "2. Data points marked in orange colour is group of people that have High annual income and they spend less money in the mall. So, for this type of customers, organisation can think for better offer and schemes so they are more encouraged to purchase the items from this mall.\n",
        "\n",
        "3. Data points marked in yellow colour is group of people that have good annual income and they spend good money in the mall, which is beneficial for the organisation. For this type of customer organisation should issue membership cards.\n",
        "\n",
        "4. Data points marked in green colour is group of people that have low annual income and they spend more money in the mall. The organisation should issue membership card, various gift vouchers, gifts for this type of customer.\n",
        "\n",
        "5. Data points marked in blue colour is group of people that have High annual income and they spend more money in the mall. They are the premium customers of the mall. Organisation should issue membership card, various gift vouchers, gifts for this type of customers.\n",
        "\n",
        "\n",
        "***Based on this type of analysis we can make recommendation system which gives better recommendation to the customer according to the annual income and spending score.***"
      ],
      "metadata": {
        "id": "W1QCvFKH_x2B"
      }
    },
    {
      "cell_type": "markdown",
      "source": [
        "***References: -***\n",
        "\n"
      ],
      "metadata": {
        "id": "w88AxxWm1xb2"
      }
    }
  ]
}